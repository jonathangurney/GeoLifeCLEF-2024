{
 "cells": [
  {
   "cell_type": "code",
   "execution_count": 4,
   "id": "fd2ad477-854d-428e-9254-aa06e6b9869e",
   "metadata": {
    "_cell_guid": "b1076dfc-b9ad-4769-8c92-a6c4dae69d19",
    "_uuid": "8f2839f25d086af736a60e9eeb907d3b93b6e0e5"
   },
   "outputs": [],
   "source": [
    "import gc\n",
    "import geopandas as gpd\n",
    "import matplotlib as mpl\n",
    "import matplotlib.pyplot as plt\n",
    "import numpy as np\n",
    "import os\n",
    "import pandas as pd \n",
    "import pickle\n",
    "from sklearn.model_selection import train_test_split\n",
    "from tqdm import tqdm\n",
    "from xgboost import XGBClassifier"
   ]
  },
  {
   "cell_type": "code",
   "execution_count": 5,
   "id": "9a59b4bb-e690-4329-80d9-ed4aedba066d",
   "metadata": {},
   "outputs": [],
   "source": [
    "data_path = './kaggle/input/geolifeclef-2024'\n",
    "output_path = './kaggle/working'\n",
    "\n",
    "# Set up the environmental raster file paths\n",
    "climate_raster_path = data_path + '/EnvironmentalRasters/EnvironmentalRasters/Climate'\n",
    "elevation_raster_path = data_path + '/EnvironmentalRasters/EnvironmentalRasters/Elevation'\n",
    "human_raster_path = data_path + '/EnvironmentalRasters/EnvironmentalRasters/Human Footprint'\n",
    "land_cover_raster_path = data_path + '/EnvironmentalRasters/EnvironmentalRasters/LandCover'\n",
    "soil_grid_raster_path = data_path + '/EnvironmentalRasters/EnvironmentalRasters/SoilGrids'"
   ]
  },
  {
   "cell_type": "code",
   "execution_count": 6,
   "id": "5dd48b33-ea51-4544-9851-120cfff52d87",
   "metadata": {
    "tags": []
   },
   "outputs": [],
   "source": [
    "pa_metadata_test_csv_filename = data_path + \"/GLC24_PA_metadata_test.csv\"\n",
    "pa_metadata_test_df = pd.read_csv(pa_metadata_test_csv_filename)\n",
    "\n",
    "pa_metadata_test_df = pd.merge(pa_metadata_test_df,\n",
    "                               pd.get_dummies(pa_metadata_test_df[['country', 'region']], dtype='int'),\n",
    "                               how='left',\n",
    "                               left_index=True,\n",
    "                               right_index=True)"
   ]
  },
  {
   "cell_type": "code",
   "execution_count": 7,
   "id": "4582dea0-d44b-4324-b3af-1390311d76d2",
   "metadata": {},
   "outputs": [],
   "source": [
    "# Load the climate raster csv file\n",
    "average_climate_raster_test_csv_filename = (climate_raster_path + \n",
    "                                             '/Average 1981-2010/GLC24-PA-test-bioclimatic.csv')\n",
    "monthly_climate_raster_test_csv_filename = (climate_raster_path + \n",
    "                                             '/Monthly/GLC24-PA-test-bioclimatic_monthly.csv')\n",
    "\n",
    "average_climate_raster_test_df = pd.read_csv(average_climate_raster_test_csv_filename)\n",
    "monthly_climate_raster_test_df = pd.read_csv(monthly_climate_raster_test_csv_filename)\n",
    "\n",
    "pa_elevation_test_csv_filename = (elevation_raster_path + '/GLC24-PA-test-elevation.csv')\n",
    "pa_elevation_test_df = pd.read_csv(pa_elevation_test_csv_filename)\n",
    "\n",
    "pa_human_test_csv_filename = (human_raster_path + '/GLC24-PA-test-human_footprint.csv')\n",
    "pa_human_test_df = pd.read_csv(pa_human_test_csv_filename)\n",
    "\n",
    "pa_land_cover_test_csv_filename = (land_cover_raster_path + '/GLC24-PA-test-landcover.csv')\n",
    "pa_land_cover_test_df = pd.read_csv(pa_land_cover_test_csv_filename)\n",
    "\n",
    "pa_soil_grid_test_csv_filename = (soil_grid_raster_path + '/GLC24-PA-test-soilgrids.csv')\n",
    "pa_soil_grid_test_df = pd.read_csv(pa_soil_grid_test_csv_filename)"
   ]
  },
  {
   "cell_type": "code",
   "execution_count": 8,
   "id": "0dd7a576-7cf8-45c4-8dd9-9bc5def1f243",
   "metadata": {},
   "outputs": [],
   "source": [
    "# Combine the dataframes into a single, larger dataframe.\n",
    "\n",
    "# To avoid any potential issues with data leakage I have cut off the monthly climate raster dataframe\n",
    "# at the end of 2016.\n",
    "\n",
    "monthly_climate_end_idx = 817\n",
    "\n",
    "pa_test_df = pd.merge(pa_metadata_test_df.drop(['areaInM2', 'geoUncertaintyInM'], axis=1),\n",
    "                      monthly_climate_raster_test_df.iloc[:, 0:monthly_climate_end_idx],\n",
    "                      how='left',\n",
    "                      on='surveyId')\n",
    "\n",
    "pa_test_df = pd.merge(pa_test_df,\n",
    "                      average_climate_raster_test_df,\n",
    "                      how='left',\n",
    "                      on='surveyId')\n",
    "\n",
    "pa_test_df = pd.merge(pa_test_df,\n",
    "                       pa_elevation_test_df,\n",
    "                       how='left',\n",
    "                       on='surveyId')\n",
    "\n",
    "pa_test_df = pd.merge(pa_test_df,\n",
    "                       pa_human_test_df,\n",
    "                       how='left',\n",
    "                       on='surveyId')\n",
    "\n",
    "pa_test_df = pd.merge(pa_test_df,\n",
    "                       pa_land_cover_test_df,\n",
    "                       how='left',\n",
    "                       on='surveyId')\n",
    "\n",
    "pa_test_df = pd.merge(pa_test_df,\n",
    "                       pa_soil_grid_test_df,\n",
    "                       how='left',\n",
    "                       on='surveyId')"
   ]
  },
  {
   "cell_type": "code",
   "execution_count": 9,
   "id": "5d2eea80-2628-42dd-a4be-c91471047c74",
   "metadata": {},
   "outputs": [],
   "source": [
    "# Add the LandSat data to the test dataset\n",
    "landsat_test_path = data_path + '/PA-test-landsat_time_series'\n",
    "\n",
    "blue_landsat_test_csv_filename = landsat_test_path + '/GLC24-PA-test-landsat_time_series-blue.csv'\n",
    "green_landsat_test_csv_filename = landsat_test_path + '/GLC24-PA-test-landsat_time_series-green.csv'\n",
    "red_landsat_test_csv_filename = landsat_test_path + '/GLC24-PA-test-landsat_time_series-red.csv'\n",
    "nir_landsat_test_csv_filename = landsat_test_path + '/GLC24-PA-test-landsat_time_series-nir.csv'\n",
    "swir1_landsat_test_csv_filename = landsat_test_path + '/GLC24-PA-test-landsat_time_series-swir1.csv'\n",
    "swir2_landsat_test_csv_filename = landsat_test_path + '/GLC24-PA-test-landsat_time_series-swir2.csv'\n",
    "\n",
    "blue_landsat_test_df = pd.read_csv(blue_landsat_test_csv_filename)\n",
    "green_landsat_test_df = pd.read_csv(green_landsat_test_csv_filename)\n",
    "red_landsat_test_df = pd.read_csv(red_landsat_test_csv_filename)\n",
    "nir_landsat_test_df = pd.read_csv(nir_landsat_test_csv_filename)\n",
    "swir1_landsat_test_df = pd.read_csv(swir1_landsat_test_csv_filename)\n",
    "swir2_landsat_test_df = pd.read_csv(swir2_landsat_test_csv_filename)"
   ]
  },
  {
   "cell_type": "code",
   "execution_count": 10,
   "id": "10ae3449-396a-4cd8-926d-16f2f99f7667",
   "metadata": {},
   "outputs": [],
   "source": [
    "def reindex_landsat_data(row, band, year_df):\n",
    "    year = year_df.loc[year_df.surveyId == row.surveyId, \"year\"].values[0]\n",
    "    start_idx = (year - 2017)*4 + 1\n",
    "    end_idx = start_idx + 68\n",
    "    obs = row[start_idx:end_idx]\n",
    "    obs.index = [f\"{band}_{lag}\" for lag in list(range(68, 0, -1))]\n",
    "    return obs"
   ]
  },
  {
   "cell_type": "code",
   "execution_count": 11,
   "id": "79ec6c91-733f-4353-a52b-266c12cdd422",
   "metadata": {},
   "outputs": [],
   "source": [
    "landsat_df_list = [blue_landsat_test_df,\n",
    "                   green_landsat_test_df,\n",
    "                   red_landsat_test_df,\n",
    "                   nir_landsat_test_df,\n",
    "                   swir1_landsat_test_df,\n",
    "                   swir2_landsat_test_df]\n",
    "\n",
    "landsat_bands = ['blue', 'green', 'red', 'nir', 'swir1', 'swir2']\n",
    "\n",
    "for band, landsat_df in zip(landsat_bands, landsat_df_list):\n",
    "    landsat_merge_df = landsat_df.apply(reindex_landsat_data,\n",
    "                                        axis=1,\n",
    "                                        band=band,\n",
    "                                        year_df=pa_metadata_test_df)\n",
    "    \n",
    "    landsat_merge_df['surveyId'] = landsat_df['surveyId']\n",
    "    \n",
    "    pa_test_df = pd.merge(pa_test_df,\n",
    "                          landsat_merge_df,\n",
    "                          how='left',\n",
    "                          on='surveyId')"
   ]
  },
  {
   "cell_type": "code",
   "execution_count": 13,
   "id": "477b9422-8596-48a1-958f-626de2252210",
   "metadata": {},
   "outputs": [],
   "source": [
    "# Import the model using pickle\n",
    "with open(\"xgb_model.pkl\", \"rb\") as file:\n",
    "    model = pickle.load(file)"
   ]
  },
  {
   "cell_type": "code",
   "execution_count": 56,
   "id": "cc411578-de05-4875-aeee-016adeb42dc7",
   "metadata": {
    "tags": []
   },
   "outputs": [],
   "source": [
    "# Import n_species_model\n",
    "with open(\"n_species_model.pkl\", \"rb\") as file:\n",
    "    n_species_model = pickle.load(file)"
   ]
  },
  {
   "cell_type": "code",
   "execution_count": 57,
   "id": "6156946b-f5e1-4c72-ad92-66aa7bda2483",
   "metadata": {
    "tags": []
   },
   "outputs": [],
   "source": [
    "X_test = pa_test_df.drop(['surveyId', 'region', 'country'], axis=1)\n",
    "\n",
    "missing_cols = list(set(model.get_booster().feature_names) - set(X_test.columns))\n",
    "X_test[missing_cols] = 0\n",
    "X_test = X_test[model.get_booster().feature_names]\n",
    "\n",
    "X_test_species = X_test[n_species_model.get_booster().feature_names]"
   ]
  },
  {
   "cell_type": "code",
   "execution_count": 43,
   "id": "6f55ca36-05de-42ee-b090-48181586ca07",
   "metadata": {
    "tags": []
   },
   "outputs": [],
   "source": [
    "y_test = model.predict_proba(X_test)"
   ]
  },
  {
   "cell_type": "code",
   "execution_count": 78,
   "id": "39cbd852-67d5-46b1-afaf-cf23b97be5d8",
   "metadata": {
    "tags": []
   },
   "outputs": [],
   "source": [
    "n_species_pred = n_species_model.predict(X_test_species)"
   ]
  },
  {
   "cell_type": "code",
   "execution_count": 88,
   "id": "69b9eb60-00d9-4cf2-ae9b-0a18a5e22378",
   "metadata": {
    "tags": []
   },
   "outputs": [],
   "source": [
    "n_species_df = pd.DataFrame((n_species_pred*1.1).round(), columns=['n_species'], index=pa_test_df.surveyId).astype(int)"
   ]
  },
  {
   "cell_type": "code",
   "execution_count": 44,
   "id": "fcd075be-40b2-4536-a63b-a241a1113391",
   "metadata": {},
   "outputs": [],
   "source": [
    "y_test_columns = list(range(1, y_test.shape[1] + 1))\n",
    "y_test = pd.DataFrame(y_test, columns=y_test_columns, index=pa_test_df.surveyId)"
   ]
  },
  {
   "cell_type": "code",
   "execution_count": 89,
   "id": "3effdbbd-c1bc-4bcc-b491-c143519517c2",
   "metadata": {
    "tags": []
   },
   "outputs": [],
   "source": [
    "prediction_df = y_test.apply(lambda x: ' '.join(x.nlargest(n_species_df.loc[x.name][0]).index.sort_values().astype(str)), axis=1).reset_index().rename({0: 'predictions'}, axis=1)"
   ]
  },
  {
   "cell_type": "code",
   "execution_count": 90,
   "id": "464abac7-3b99-43dd-a05d-06f634e2bfbc",
   "metadata": {
    "tags": []
   },
   "outputs": [],
   "source": [
    "prediction_df.to_csv('test_predictions_n_species_model_adj.csv', index=False)"
   ]
  },
  {
   "cell_type": "code",
   "execution_count": 38,
   "id": "874b95dd-08fa-49ac-9523-3fbe6f033245",
   "metadata": {},
   "outputs": [],
   "source": [
    "# prediction_df = y_test.stack()[y_test.stack() == 1]\n",
    "# prediction_df = prediction_df.index.to_frame(index=False).rename({1: 'predictions'}, axis=1)\n",
    "# prediction_df['predictions'] = prediction_df.predictions.astype(str)\n",
    "\n",
    "# df = prediction_df.groupby('surveyId')['predictions'].transform(lambda x: ' '.join(x)).drop_duplicates()\n",
    "\n",
    "# df = pd.merge(df,\n",
    "#               prediction_df.drop('predictions', axis=1),\n",
    "#               how='left',\n",
    "#               left_index=True,\n",
    "#               right_index=True)\n",
    "\n",
    "# df = pd.merge(pa_test_df['surveyId'],\n",
    "#               df,\n",
    "#               how='left',\n",
    "#               on='surveyId').fillna('')\n",
    "\n",
    "# df.to_csv('test_predictions.csv', index=False)"
   ]
  }
 ],
 "metadata": {
  "environment": {
   "kernel": "python3",
   "name": "tf2-cpu.2-11.m121",
   "type": "gcloud",
   "uri": "us-docker.pkg.dev/deeplearning-platform-release/gcr.io/tf2-cpu.2-11:m121"
  },
  "kernelspec": {
   "display_name": "Python 3 (Local)",
   "language": "python",
   "name": "python3"
  },
  "language_info": {
   "codemirror_mode": {
    "name": "ipython",
    "version": 3
   },
   "file_extension": ".py",
   "mimetype": "text/x-python",
   "name": "python",
   "nbconvert_exporter": "python",
   "pygments_lexer": "ipython3",
   "version": "3.10.14"
  }
 },
 "nbformat": 4,
 "nbformat_minor": 5
}
